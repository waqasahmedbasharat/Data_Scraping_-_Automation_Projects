{
  "nbformat": 4,
  "nbformat_minor": 0,
  "metadata": {
    "colab": {
      "provenance": []
    },
    "kernelspec": {
      "name": "python3",
      "display_name": "Python 3"
    },
    "language_info": {
      "name": "python"
    }
  },
  "cells": [
    {
      "cell_type": "markdown",
      "source": [
        "## Regex - Regular Expressions\n",
        "We use regex for the pattern matching and then extracting that data."
      ],
      "metadata": {
        "id": "xdq1ferRhUmW"
      }
    },
    {
      "cell_type": "code",
      "execution_count": null,
      "metadata": {
        "id": "dcbt-alOgML4"
      },
      "outputs": [],
      "source": [
        "import re"
      ]
    },
    {
      "cell_type": "code",
      "source": [
        "chat1 = \"Hello there! My name is John Doe, and I live at 123 Main Street. You can reach me at doe@email.com or call me at +1 (555) 123-4567. I recently bought a new car with the license plate XYZ123. Looking forward to our meeting on 2022-05-20. Cheers!\"\n",
        "chat2 = \"Hi, I'm Alice Johnson, and my office address is 456 Business Avenue. You can email me at j@email.co or give me a call at +1 (555) 987-6543. Don't forget our meeting on 2023-03-15. Looking forward to it!\"\n",
        "chat3 = \"Hello, it's Bob Smith here. I reside at 789 Park Street. Feel free to reach out via email at smith@email.org or call me at +1 (555) 789-0123. My car's license plate is ABC987. Let's catch up on 2022-08-10!\""
      ],
      "metadata": {
        "id": "fvNUADb_hSMu"
      },
      "execution_count": null,
      "outputs": []
    },
    {
      "cell_type": "code",
      "source": [
        "phone_no = '\\(\\d{3}\\) \\d{3}-\\d{4}'\n",
        "p = re.findall(phone_no, chat1)\n",
        "p"
      ],
      "metadata": {
        "colab": {
          "base_uri": "https://localhost:8080/"
        },
        "id": "cXbRF25Xijq5",
        "outputId": "f0b4814c-c817-433f-9228-b60e8c4079be"
      },
      "execution_count": null,
      "outputs": [
        {
          "output_type": "execute_result",
          "data": {
            "text/plain": [
              "['(555) 123-4567']"
            ]
          },
          "metadata": {},
          "execution_count": 25
        }
      ]
    },
    {
      "cell_type": "code",
      "source": [
        "email = '[a-z0-9A-Z_]*@[a-z0-9A-Z]*\\.[a-zA-Z]*'\n",
        "e = re.findall(email, chat3)\n",
        "e"
      ],
      "metadata": {
        "colab": {
          "base_uri": "https://localhost:8080/"
        },
        "id": "MfPjOYsXiq6A",
        "outputId": "3029ec3f-d416-48ee-9d83-2c0537a9ee6b"
      },
      "execution_count": null,
      "outputs": [
        {
          "output_type": "execute_result",
          "data": {
            "text/plain": [
              "['smith@email.org']"
            ]
          },
          "metadata": {},
          "execution_count": 26
        }
      ]
    },
    {
      "cell_type": "code",
      "source": [
        "date = '\\d{4}-\\d{2}-\\d{2}'\n",
        "d = re.findall(date, chat2)\n",
        "d"
      ],
      "metadata": {
        "colab": {
          "base_uri": "https://localhost:8080/"
        },
        "id": "Yrg6ZFANlaWB",
        "outputId": "e54e255f-9131-4241-dc93-940c0b72315e"
      },
      "execution_count": null,
      "outputs": [
        {
          "output_type": "execute_result",
          "data": {
            "text/plain": [
              "['2023-03-15']"
            ]
          },
          "metadata": {},
          "execution_count": 27
        }
      ]
    },
    {
      "cell_type": "markdown",
      "source": [
        "## Data Extraction - Wikipedia"
      ],
      "metadata": {
        "id": "Z3ELr2utoWzB"
      }
    },
    {
      "cell_type": "code",
      "source": [
        "text = \"\"\"\n",
        "Khan in 2019\n",
        "22nd Prime Minister of Pakistan\n",
        "In office\n",
        "18 August 2018 – 10 April 2022\n",
        "President\n",
        "Mamnoon Hussain\n",
        "Arif Alvi\n",
        "Preceded by\tNasirul Mulk (caretaker)\n",
        "Succeeded by\tShehbaz Sharif\n",
        "Chairman of the Pakistan Tehreek-e-Insaf\n",
        "In office\n",
        "25 April 1996 – 2 December 2023\n",
        "Vice Chairman\tShah Mahmood Qureshi\n",
        "Preceded by\tPosition established\n",
        "Succeeded by\tGohar Ali Khan\n",
        "Member of the National Assembly\n",
        "In office\n",
        "13 August 2018 – 21 October 2022\n",
        "Preceded by\tObaidullah Shadikhel\n",
        "Constituency\tNA-95 (Mianwali-I)\n",
        "Majority\t113,523 (44.89%)\n",
        "In office\n",
        "19 June 2013 – 31 May 2018\n",
        "Preceded by\tHanif Abbasi\n",
        "Succeeded by\tSheikh Rashid Shafique\n",
        "Constituency\tNA-56 (Rawalpindi-VII)\n",
        "Majority\t13,268 (8.28%)\n",
        "In office\n",
        "10 October 2002 – 3 November 2007\n",
        "Preceded by\tConstituency established\n",
        "Succeeded by\tNawabzada Malik Amad Khan\n",
        "Constituency\tNA-71 (Mianwali-I)\n",
        "Majority\t6,204 (4.49%)\n",
        "Chancellor of the University of Bradford\n",
        "In office\n",
        "7 December 2005 – 7 December 2014\n",
        "Preceded by\tBetty Lockwood\n",
        "Succeeded by\tKate Swann\n",
        "Personal details\n",
        "Born\tImran Ahmad Khan Niazi\n",
        "5 October 1952 (age 71)\n",
        "Lahore, West Punjab, Pakistan\n",
        "(present-day Punjab, Pakistan)\n",
        "Political party\tPakistan Tehreek-e-Insaf\n",
        "(1996–present)\n",
        "Spouses\n",
        "Jemima Goldsmith\n",
        "​\n",
        "​(m. 1995; div. 2004)​\n",
        "Reham Khan\n",
        "​\n",
        "​(m. 2015; div. 2015)​\n",
        "Bushra Bibi ​(m. 2018)​\n",
        "Children\tSulaiman Isa Khan\n",
        "Kasim Khan\n",
        "Parents\n",
        "Ikramullah Khan Niazi (father)\n",
        "Shaukat Khanum (mother)\n",
        "Relatives\tFamily of Imran Khan\n",
        "Residences\n",
        "Bani Gala, Islamabad, Capital Territory\n",
        "Zaman Park, Lahore, Punjab\n",
        "Education\tKeble College, Oxford (BA)\n",
        "Awards\tSee list\n",
        "Signature\n",
        "Nickname\tKaptaan (Captain)\n",
        "Personal information\n",
        "Height\t6 ft 2 in (188 cm)[1]\n",
        "Batting\tRight-handed\n",
        "Bowling\tRight-arm fast\n",
        "Role\tAll-rounder\n",
        "International information\n",
        "National side\n",
        "Pakistan (1971–1992)\n",
        "Test debut (cap 88)\t3 June 1971 v England\n",
        "Last Test\t2 January 1992 v Sri Lanka\n",
        "ODI debut (cap 175)\t31 August 1974 v England\n",
        "Last ODI\t25 March 1992 v England\n",
        "Career statistics\n",
        "Competition\tTest\tODI\tFC\tLA\n",
        "Matches\t88\t175\t382\t425\n",
        "Runs scored\t3,807\t3,709\t17,771\t10,100\n",
        "Batting average\t37.69\t33.41\t36.79\t33.22\n",
        "100s/50s\t6/18\t1/19\t30/93\t5/66\n",
        "Top score\t136\t102*\t170\t114*\n",
        "Balls bowled\t19,458\t7,461\t65,224\t19,122\n",
        "Wickets\t362\t182\t1287\t507\n",
        "Bowling average\t22.81\t26.61\t22.32\t22.31\n",
        "5 wickets in innings\t23\t1\t70\t6\n",
        "10 wickets in match\t6\t0\t13\t0\n",
        "Best bowling\t8/58\t6/14\t8/34\t6/14\n",
        "Catches/stumpings\t28/–\t36/–\t117/–\t84/–\n",
        "Source: ESPNcricinfo, 5 November 2014\n",
        "\n",
        "\"\"\""
      ],
      "metadata": {
        "id": "aVCfoq6mnz79"
      },
      "execution_count": null,
      "outputs": []
    },
    {
      "cell_type": "code",
      "source": [
        "pattern = 'age (\\d+)'\n",
        "matches = re.findall(pattern, text)\n",
        "matches"
      ],
      "metadata": {
        "colab": {
          "base_uri": "https://localhost:8080/"
        },
        "id": "LkckkVQbpOYh",
        "outputId": "c7b3fd29-2ab9-4d00-e169-008b26bee162"
      },
      "execution_count": null,
      "outputs": [
        {
          "output_type": "execute_result",
          "data": {
            "text/plain": [
              "['71']"
            ]
          },
          "metadata": {},
          "execution_count": 50
        }
      ]
    },
    {
      "cell_type": "code",
      "source": [
        "pattern = 'Born(.*)'\n",
        "matches = re.findall(pattern, text)\n",
        "matches[0].strip()"
      ],
      "metadata": {
        "colab": {
          "base_uri": "https://localhost:8080/",
          "height": 35
        },
        "id": "4LdGIMp8pXpF",
        "outputId": "0f7343f7-9c4f-4d5f-e1a2-5960f072598e"
      },
      "execution_count": null,
      "outputs": [
        {
          "output_type": "execute_result",
          "data": {
            "text/plain": [
              "'Imran Ahmad Khan Niazi'"
            ],
            "application/vnd.google.colaboratory.intrinsic+json": {
              "type": "string"
            }
          },
          "metadata": {},
          "execution_count": 51
        }
      ]
    },
    {
      "cell_type": "code",
      "source": [
        "pattern = 'Born.*\\n(.*)\\(age'\n",
        "matches = re.findall(pattern, text)\n",
        "matches[0].strip()"
      ],
      "metadata": {
        "colab": {
          "base_uri": "https://localhost:8080/",
          "height": 35
        },
        "id": "A24K5yAhpvPN",
        "outputId": "db13ccca-d73a-4d52-f777-3f5b276efe86"
      },
      "execution_count": null,
      "outputs": [
        {
          "output_type": "execute_result",
          "data": {
            "text/plain": [
              "'5 October 1952'"
            ],
            "application/vnd.google.colaboratory.intrinsic+json": {
              "type": "string"
            }
          },
          "metadata": {},
          "execution_count": 52
        }
      ]
    },
    {
      "cell_type": "code",
      "source": [
        "pattern = '\\(age.*\\n(.*)'\n",
        "matches = re.findall(pattern, text)\n",
        "matches[0].strip()"
      ],
      "metadata": {
        "colab": {
          "base_uri": "https://localhost:8080/",
          "height": 35
        },
        "id": "0t2nDrpDqppB",
        "outputId": "1be0451b-03b9-442f-898a-2ea6d5784222"
      },
      "execution_count": null,
      "outputs": [
        {
          "output_type": "execute_result",
          "data": {
            "text/plain": [
              "'Lahore, West Punjab, Pakistan'"
            ],
            "application/vnd.google.colaboratory.intrinsic+json": {
              "type": "string"
            }
          },
          "metadata": {},
          "execution_count": 53
        }
      ]
    },
    {
      "cell_type": "code",
      "source": [
        "def get_pattern_match(pattern, text):\n",
        "  matches = re.findall(pattern, text)\n",
        "  if matches:\n",
        "    return matches[0]"
      ],
      "metadata": {
        "id": "F25aduLgrY8-"
      },
      "execution_count": null,
      "outputs": []
    },
    {
      "cell_type": "code",
      "source": [
        "def get_personal_info(text):\n",
        "  name = get_pattern_match('Born(.*)', text)\n",
        "  age = get_pattern_match('age (\\d+)', text)\n",
        "  birth_date = get_pattern_match('Born.*\\n(.*)\\(age', text)\n",
        "  birth_place = get_pattern_match('\\(age.*\\n(.*)', text)\n",
        "\n",
        "  return{\n",
        "      'Name': name.strip(),\n",
        "      'Age': int(age),\n",
        "      'Birth_Date': birth_date.strip(),\n",
        "      'Birth_Place': birth_place.strip()\n",
        "  }"
      ],
      "metadata": {
        "id": "AgbdiqjFsYvs"
      },
      "execution_count": null,
      "outputs": []
    },
    {
      "cell_type": "code",
      "source": [
        "get_personal_info(text)"
      ],
      "metadata": {
        "colab": {
          "base_uri": "https://localhost:8080/"
        },
        "id": "Xy8qRKrNs1bh",
        "outputId": "155b8b40-9a4b-492e-eedf-847dcd34f499"
      },
      "execution_count": null,
      "outputs": [
        {
          "output_type": "execute_result",
          "data": {
            "text/plain": [
              "{'Name': 'Imran Ahmad Khan Niazi',\n",
              " 'Age': 71,\n",
              " 'Birth_Date': '5 October 1952',\n",
              " 'Birth_Place': 'Lahore, West Punjab, Pakistan'}"
            ]
          },
          "metadata": {},
          "execution_count": 56
        }
      ]
    },
    {
      "cell_type": "code",
      "source": [],
      "metadata": {
        "id": "6Gno_kYMtXiZ"
      },
      "execution_count": null,
      "outputs": []
    }
  ]
}