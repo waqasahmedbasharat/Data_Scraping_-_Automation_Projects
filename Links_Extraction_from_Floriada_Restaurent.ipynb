{
 "cells": [
  {
   "cell_type": "code",
   "execution_count": 1,
   "id": "e6c7dbf4",
   "metadata": {},
   "outputs": [],
   "source": [
    "from selenium import webdriver"
   ]
  },
  {
   "cell_type": "code",
   "execution_count": 2,
   "id": "61f76831",
   "metadata": {},
   "outputs": [
    {
     "name": "stderr",
     "output_type": "stream",
     "text": [
      "C:\\Users\\AMMAR MEER\\AppData\\Local\\Temp\\ipykernel_13348\\228391619.py:5: DeprecationWarning: executable_path has been deprecated, please pass in a Service object\n",
      "  driver = webdriver.Chrome('chromedriver.exe')\n"
     ]
    }
   ],
   "source": [
    "website = 'https://www.tripadvisor.com/Restaurants-g28930-oa20-Florida.html#LOCATION_LIST'\n",
    "\n",
    "\n",
    "# Create Chrome driver instance\n",
    "driver = webdriver.Chrome('chromedriver.exe')\n",
    "driver.get(website)"
   ]
  },
  {
   "cell_type": "code",
   "execution_count": 2,
   "id": "2983b46e",
   "metadata": {},
   "outputs": [],
   "source": [
    "import requests\n",
    "from selenium import webdriver\n",
    "from bs4 import BeautifulSoup as b\n",
    "from xlwt import Workbook\n",
    "driver=webdriver.Chrome()\n",
    "wb=Workbook()\n",
    "ws=wb.add_sheet('Data')\n",
    "ws.write(0,0,'URL')\n",
    "row=1\n",
    "for i in range(20,640,20):\n",
    "    driver.get(f'https://www.tripadvisor.com/Restaurants-g28930-oa{i}-Florida.html#LOCATION_LIST')\n",
    "    soup=b(driver.page_source,'html.parser')\n",
    "    ul=soup.find(class_=\"geoList\")\n",
    "    li=ul.findAll('li')\n",
    "    for l in li:\n",
    "        link=l.find('a')['href']\n",
    "        links='https://www.tripadvisor.com/'+link\n",
    "        ws.write(row,0,links)\n",
    "        row=row+1\n",
    "        wb.save(\"links.xlsx\")"
   ]
  },
  {
   "cell_type": "code",
   "execution_count": null,
   "id": "ce8f04ae",
   "metadata": {},
   "outputs": [],
   "source": []
  }
 ],
 "metadata": {
  "kernelspec": {
   "display_name": "Python 3 (ipykernel)",
   "language": "python",
   "name": "python3"
  },
  "language_info": {
   "codemirror_mode": {
    "name": "ipython",
    "version": 3
   },
   "file_extension": ".py",
   "mimetype": "text/x-python",
   "name": "python",
   "nbconvert_exporter": "python",
   "pygments_lexer": "ipython3",
   "version": "3.10.9"
  }
 },
 "nbformat": 4,
 "nbformat_minor": 5
}
