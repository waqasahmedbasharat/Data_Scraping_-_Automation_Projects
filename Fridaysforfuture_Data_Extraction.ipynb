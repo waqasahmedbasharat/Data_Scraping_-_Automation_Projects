{
 "cells": [
  {
   "cell_type": "code",
   "execution_count": 1,
   "id": "cacaacd4",
   "metadata": {},
   "outputs": [],
   "source": [
    "import requests\n",
    "\n",
    "cookies = {\n",
    "    '_pk_id.1.e639': '02f6f98af7b4db4c.1688623635.',\n",
    "    'cookielawinfo-checkbox-necessary': 'yes',\n",
    "    'cookielawinfo-checkbox-non-necessary': 'yes',\n",
    "    '_fbp': 'fb.1.1688623635911.684473018',\n",
    "    'viewed_cookie_policy': 'yes',\n",
    "    '_pk_ref.1.e639': '%5B%22%22%2C%22%22%2C1689313994%2C%22https%3A%2F%2Fwww.google.com%2F%22%5D',\n",
    "    '_pk_ses.1.e639': '1',\n",
    "    '_gid': 'GA1.2.2067743546.1689313997',\n",
    "    '_gat_gtag_UA_235530003_1': '1',\n",
    "    '_ga': 'GA1.1.963492052.1688623636',\n",
    "    '_ga_0C4EVZV00C': 'GS1.1.1689313996.5.1.1689314014.0.0.0',\n",
    "    '_ga_D9FEJ6G4GP': 'GS1.1.1689313996.5.1.1689314014.0.0.0',\n",
    "}\n",
    "\n",
    "headers = {\n",
    "    'authority': 'fridaysforfuture.hamburg',\n",
    "    'accept': '*/*',\n",
    "    'accept-language': 'en-US,en;q=0.9',\n",
    "    'content-type': 'application/x-www-form-urlencoded; charset=UTF-8',\n",
    "    # 'cookie': '_pk_id.1.e639=02f6f98af7b4db4c.1688623635.; cookielawinfo-checkbox-necessary=yes; cookielawinfo-checkbox-non-necessary=yes; _fbp=fb.1.1688623635911.684473018; viewed_cookie_policy=yes; _pk_ref.1.e639=%5B%22%22%2C%22%22%2C1689313994%2C%22https%3A%2F%2Fwww.google.com%2F%22%5D; _pk_ses.1.e639=1; _gid=GA1.2.2067743546.1689313997; _gat_gtag_UA_235530003_1=1; _ga=GA1.1.963492052.1688623636; _ga_0C4EVZV00C=GS1.1.1689313996.5.1.1689314014.0.0.0; _ga_D9FEJ6G4GP=GS1.1.1689313996.5.1.1689314014.0.0.0',\n",
    "    'origin': 'https://fridaysforfuture.hamburg',\n",
    "    'referer': 'https://fridaysforfuture.hamburg/termine/',\n",
    "    'sec-ch-ua': '\"Not.A/Brand\";v=\"8\", \"Chromium\";v=\"114\", \"Google Chrome\";v=\"114\"',\n",
    "    'sec-ch-ua-mobile': '?0',\n",
    "    'sec-ch-ua-platform': '\"Windows\"',\n",
    "    'sec-fetch-dest': 'empty',\n",
    "    'sec-fetch-mode': 'cors',\n",
    "    'sec-fetch-site': 'same-origin',\n",
    "    'user-agent': 'Mozilla/5.0 (Windows NT 10.0; Win64; x64) AppleWebKit/537.36 (KHTML, like Gecko) Chrome/114.0.0.0 Safari/537.36',\n",
    "    'x-requested-with': 'XMLHttpRequest',\n",
    "}\n",
    "\n",
    "data = {\n",
    "    'action': 'gswpts_sheet_fetch',\n",
    "    'id': '2',\n",
    "    'nonce': 'ae272a8002',\n",
    "}\n",
    "\n",
    "response = requests.post('https://fridaysforfuture.hamburg/wp-admin/admin-ajax.php', cookies=cookies, headers=headers, data=data)"
   ]
  },
  {
   "cell_type": "code",
   "execution_count": 14,
   "id": "78a8a090",
   "metadata": {},
   "outputs": [
    {
     "data": {
      "text/plain": [
       "'{\"success\":true,\"data\":{\"output\":\"<table id=\\\\\"create_tables\\\\\" class=\\\\\"ui celled display table gswpts_tables\\\\\" style=\\\\\"width:100%\\\\\"><thead><tr><th>Datum und Uhrzeit<\\\\/th><th>Ort<\\\\/th><th>Aktion<\\\\/th><\\\\/tr><\\\\/thead><tbody><tr class=\\\\\"gswpts_rows row_1\\\\\" data-index=\\\\\"1\\\\\"><td data-index=\\\\\"[1,1]\\\\\" data-content=\\\\\"Datum und Uhrzeit: &nbsp;\\\\\" class=\\\\\"cell_index_1-1\\\\\"><div class=\\\\\"cell_div\\\\\">14.07.2023 um 14 Uhr<\\\\/div><\\\\/td><td data-index=\\\\\"[2,1]\\\\\" data-content=\\\\\"Ort: &nbsp;\\\\\" class=\\\\\"cell_index_2-1\\\\\"><div class=\\\\\"cell_div\\\\\">1,5\\\\u00b0C Schriftzug in der M\\\\u00f6nkebergstra\\\\u00dfe<\\\\/div><\\\\/td><td data-index=\\\\\"[3,1]\\\\\" data-content=\\\\\"Aktion: &nbsp;\\\\\" class=\\\\\"cell_index_3-1\\\\\"><div class=\\\\\"cell_div\\\\\">Fridays for Future Demo zur Ahrtal-Flut (2 Jahre)<\\\\/div><\\\\/td><\\\\/tr><tr class=\\\\\"gswpts_rows row_2\\\\\" data-index=\\\\\"2\\\\\"><td data-index=\\\\\"[1,2]\\\\\" data-content=\\\\\"Datum und Uhrzeit: &nbsp;\\\\\" class=\\\\\"cell_index_1-2\\\\\"><div class=\\\\\"cell_div\\\\\">Am 15.09.2023<\\\\/div><\\\\/td><td data-index=\\\\\"[2,2]\\\\\" data-content=\\\\\"Ort: &nbsp;\\\\\" class=\\\\\"cell_index_2-2\\\\\"><div class=\\\\\"cell_div\\\\\">Ort folgt<\\\\/div><\\\\/td><td data-index=\\\\\"[3,2]\\\\\" data-content=\\\\\"Aktion: &nbsp;\\\\\" class=\\\\\"cell_index_3-2\\\\\"><div class=\\\\\"cell_div\\\\\">Globaler Klimastreik<\\\\/div><\\\\/td><\\\\/tr><\\\\/tbody><\\\\/table>\",\"type\":\"success\",\"tableColumns\":[\"Datum und Uhrzeit\",\"Ort\",\"Aktion\"],\"table_data\":{\"table_id\":2,\"source_url\":\"https:\\\\/\\\\/docs.google.com\\\\/spreadsheets\\\\/d\\\\/1_yTtKWYLAh0KbkesGKZsMZZnutgB7Cerlj1XfS4eHD0\\\\/\",\"source_type\":\"spreadsheet\",\"table_name\":\"Demodaten\",\"table_settings\":{\"table_title\":\"\",\"default_rows_per_page\":\"10\",\"show_info_block\":false,\"show_x_entries\":false,\"swap_filter_inputs\":false,\"swap_bottom_options\":false,\"allow_sorting\":false,\"search_bar\":false}}}}'"
      ]
     },
     "execution_count": 14,
     "metadata": {},
     "output_type": "execute_result"
    }
   ],
   "source": [
    "response.text"
   ]
  },
  {
   "cell_type": "code",
   "execution_count": 11,
   "id": "00a953dd",
   "metadata": {},
   "outputs": [],
   "source": [
    "dat=response.text\n"
   ]
  },
  {
   "cell_type": "code",
   "execution_count": 12,
   "id": "7cde9e67",
   "metadata": {},
   "outputs": [],
   "source": [
    "import json\n",
    "data = json.loads(dat)"
   ]
  },
  {
   "cell_type": "code",
   "execution_count": 22,
   "id": "9a0d7aaf",
   "metadata": {},
   "outputs": [
    {
     "data": {
      "text/plain": [
       "'https://docs.google.com/spreadsheets/d/1_yTtKWYLAh0KbkesGKZsMZZnutgB7Cerlj1XfS4eHD0/'"
      ]
     },
     "execution_count": 22,
     "metadata": {},
     "output_type": "execute_result"
    }
   ],
   "source": [
    "source_url = data[\"data\"][\"table_data\"][\"source_url\"]\n",
    "source_url"
   ]
  },
  {
   "cell_type": "code",
   "execution_count": 23,
   "id": "98dbf024",
   "metadata": {},
   "outputs": [
    {
     "name": "stdout",
     "output_type": "stream",
     "text": [
      "Data saved as output.csv\n"
     ]
    }
   ],
   "source": [
    "import pandas as pd\n",
    "import json\n",
    "import requests\n",
    "\n",
    "cookies = {\n",
    "    '_pk_id.1.e639': '02f6f98af7b4db4c.1688623635.',\n",
    "    'cookielawinfo-checkbox-necessary': 'yes',\n",
    "    'cookielawinfo-checkbox-non-necessary': 'yes',\n",
    "    '_fbp': 'fb.1.1688623635911.684473018',\n",
    "    'viewed_cookie_policy': 'yes',\n",
    "    '_pk_ref.1.e639': '%5B%22%22%2C%22%22%2C1689313994%2C%22https%3A%2F%2Fwww.google.com%2F%22%5D',\n",
    "    '_pk_ses.1.e639': '1',\n",
    "    '_gid': 'GA1.2.2067743546.1689313997',\n",
    "    '_gat_gtag_UA_235530003_1': '1',\n",
    "    '_ga': 'GA1.1.963492052.1688623636',\n",
    "    '_ga_0C4EVZV00C': 'GS1.1.1689313996.5.1.1689314014.0.0.0',\n",
    "    '_ga_D9FEJ6G4GP': 'GS1.1.1689313996.5.1.1689314014.0.0.0',\n",
    "}\n",
    "\n",
    "headers = {\n",
    "    'authority': 'fridaysforfuture.hamburg',\n",
    "    'accept': '*/*',\n",
    "    'accept-language': 'en-US,en;q=0.9',\n",
    "    'content-type': 'application/x-www-form-urlencoded; charset=UTF-8',\n",
    "    # 'cookie': '_pk_id.1.e639=02f6f98af7b4db4c.1688623635.; cookielawinfo-checkbox-necessary=yes; cookielawinfo-checkbox-non-necessary=yes; _fbp=fb.1.1688623635911.684473018; viewed_cookie_policy=yes; _pk_ref.1.e639=%5B%22%22%2C%22%22%2C1689313994%2C%22https%3A%2F%2Fwww.google.com%2F%22%5D; _pk_ses.1.e639=1; _gid=GA1.2.2067743546.1689313997; _gat_gtag_UA_235530003_1=1; _ga=GA1.1.963492052.1688623636; _ga_0C4EVZV00C=GS1.1.1689313996.5.1.1689314014.0.0.0; _ga_D9FEJ6G4GP=GS1.1.1689313996.5.1.1689314014.0.0.0',\n",
    "    'origin': 'https://fridaysforfuture.hamburg',\n",
    "    'referer': 'https://fridaysforfuture.hamburg/termine/',\n",
    "    'sec-ch-ua': '\"Not.A/Brand\";v=\"8\", \"Chromium\";v=\"114\", \"Google Chrome\";v=\"114\"',\n",
    "    'sec-ch-ua-mobile': '?0',\n",
    "    'sec-ch-ua-platform': '\"Windows\"',\n",
    "    'sec-fetch-dest': 'empty',\n",
    "    'sec-fetch-mode': 'cors',\n",
    "    'sec-fetch-site': 'same-origin',\n",
    "    'user-agent': 'Mozilla/5.0 (Windows NT 10.0; Win64; x64) AppleWebKit/537.36 (KHTML, like Gecko) Chrome/114.0.0.0 Safari/537.36',\n",
    "    'x-requested-with': 'XMLHttpRequest',\n",
    "}\n",
    "\n",
    "data = {\n",
    "    'action': 'gswpts_sheet_fetch',\n",
    "    'id': '2',\n",
    "    'nonce': 'ae272a8002',\n",
    "}\n",
    "\n",
    "response = requests.post('https://fridaysforfuture.hamburg/wp-admin/admin-ajax.php', cookies=cookies, headers=headers, data=data)\n",
    "data = json.loads(dat)\n",
    "# Extract the source_url\n",
    "source_url = data[\"data\"][\"table_data\"][\"source_url\"]\n",
    "\n",
    "# Read the spreadsheet data into a DataFrame\n",
    "df = pd.read_html(source_url)[0]  # Assuming the table is the first one on the page\n",
    "\n",
    "# Save the DataFrame as a CSV file\n",
    "df.to_csv(\"upcoming events.csv\", index=False)\n",
    "\n",
    "print(\"Data saved as output.csv\")\n"
   ]
  },
  {
   "cell_type": "code",
   "execution_count": 13,
   "id": "e76b160b",
   "metadata": {},
   "outputs": [
    {
     "name": "stdout",
     "output_type": "stream",
     "text": [
      "Table Columns: ['Datum und Uhrzeit', 'Ort', 'Aktion']\n",
      "Table Data: {'table_id': 2, 'source_url': 'https://docs.google.com/spreadsheets/d/1_yTtKWYLAh0KbkesGKZsMZZnutgB7Cerlj1XfS4eHD0/', 'source_type': 'spreadsheet', 'table_name': 'Demodaten', 'table_settings': {'table_title': '', 'default_rows_per_page': '10', 'show_info_block': False, 'show_x_entries': False, 'swap_filter_inputs': False, 'swap_bottom_options': False, 'allow_sorting': False, 'search_bar': False}}\n",
      "Output: <table id=\"create_tables\" class=\"ui celled display table gswpts_tables\" style=\"width:100%\"><thead><tr><th>Datum und Uhrzeit</th><th>Ort</th><th>Aktion</th></tr></thead><tbody><tr class=\"gswpts_rows row_1\" data-index=\"1\"><td data-index=\"[1,1]\" data-content=\"Datum und Uhrzeit: &nbsp;\" class=\"cell_index_1-1\"><div class=\"cell_div\">14.07.2023 um 14 Uhr</div></td><td data-index=\"[2,1]\" data-content=\"Ort: &nbsp;\" class=\"cell_index_2-1\"><div class=\"cell_div\">1,5°C Schriftzug in der Mönkebergstraße</div></td><td data-index=\"[3,1]\" data-content=\"Aktion: &nbsp;\" class=\"cell_index_3-1\"><div class=\"cell_div\">Fridays for Future Demo zur Ahrtal-Flut (2 Jahre)</div></td></tr><tr class=\"gswpts_rows row_2\" data-index=\"2\"><td data-index=\"[1,2]\" data-content=\"Datum und Uhrzeit: &nbsp;\" class=\"cell_index_1-2\"><div class=\"cell_div\">Am 15.09.2023</div></td><td data-index=\"[2,2]\" data-content=\"Ort: &nbsp;\" class=\"cell_index_2-2\"><div class=\"cell_div\">Ort folgt</div></td><td data-index=\"[3,2]\" data-content=\"Aktion: &nbsp;\" class=\"cell_index_3-2\"><div class=\"cell_div\">Globaler Klimastreik</div></td></tr></tbody></table>\n"
     ]
    }
   ],
   "source": [
    "for d in data['source_url']:\n",
    "    event=\n"
   ]
  },
  {
   "cell_type": "code",
   "execution_count": 1,
   "id": "53258b96",
   "metadata": {
    "scrolled": false
   },
   "outputs": [],
   "source": [
    "import requests\n",
    "import json\n",
    "\n",
    "cookies = {\n",
    "    '_pk_id.1.e639': '02f6f98af7b4db4c.1688623635.',\n",
    "    'cookielawinfo-checkbox-necessary': 'yes',\n",
    "    'cookielawinfo-checkbox-non-necessary': 'yes',\n",
    "    '_fbp': 'fb.1.1688623635911.684473018',\n",
    "    'viewed_cookie_policy': 'yes',\n",
    "    '_gid': 'GA1.2.2067743546.1689313997',\n",
    "    '_ga': 'GA1.1.963492052.1688623636',\n",
    "    '_ga_0C4EVZV00C': 'GS1.1.1689399098.6.0.1689399098.0.0.0',\n",
    "    '_ga_D9FEJ6G4GP': 'GS1.1.1689399098.6.0.1689399098.0.0.0',\n",
    "    '_pk_ref.1.e639': '%5B%22%22%2C%22%22%2C1689399098%2C%22https%3A%2F%2Fwww.google.com%2F%22%5D',\n",
    "    '_pk_ses.1.e639': '1',\n",
    "}\n",
    "\n",
    "headers = {\n",
    "    'authority': 'fridaysforfuture.hamburg',\n",
    "    'accept': '*/*',\n",
    "    'accept-language': 'en-US,en;q=0.9',\n",
    "    'content-type': 'application/x-www-form-urlencoded; charset=UTF-8',\n",
    "    # 'cookie': '_pk_id.1.e639=02f6f98af7b4db4c.1688623635.; cookielawinfo-checkbox-necessary=yes; cookielawinfo-checkbox-non-necessary=yes; _fbp=fb.1.1688623635911.684473018; viewed_cookie_policy=yes; _gid=GA1.2.2067743546.1689313997; _ga=GA1.1.963492052.1688623636; _ga_0C4EVZV00C=GS1.1.1689399098.6.0.1689399098.0.0.0; _ga_D9FEJ6G4GP=GS1.1.1689399098.6.0.1689399098.0.0.0; _pk_ref.1.e639=%5B%22%22%2C%22%22%2C1689399098%2C%22https%3A%2F%2Fwww.google.com%2F%22%5D; _pk_ses.1.e639=1',\n",
    "    'origin': 'https://fridaysforfuture.hamburg',\n",
    "    'referer': 'https://fridaysforfuture.hamburg/termine/',\n",
    "    'sec-ch-ua': '\"Not.A/Brand\";v=\"8\", \"Chromium\";v=\"114\", \"Google Chrome\";v=\"114\"',\n",
    "    'sec-ch-ua-mobile': '?0',\n",
    "    'sec-ch-ua-platform': '\"Windows\"',\n",
    "    'sec-fetch-dest': 'empty',\n",
    "    'sec-fetch-mode': 'cors',\n",
    "    'sec-fetch-site': 'same-origin',\n",
    "    'user-agent': 'Mozilla/5.0 (Windows NT 10.0; Win64; x64) AppleWebKit/537.36 (KHTML, like Gecko) Chrome/114.0.0.0 Safari/537.36',\n",
    "    'x-requested-with': 'XMLHttpRequest',\n",
    "}\n",
    "\n",
    "data = {\n",
    "    'action': 'gswpts_sheet_fetch',\n",
    "    'id': '2',\n",
    "    'nonce': 'd186b1bd61',\n",
    "}\n",
    "\n",
    "response = requests.post('https://fridaysforfuture.hamburg/wp-admin/admin-ajax.php', cookies=cookies, headers=headers, data=data)\n",
    "\n",
    "data = json.loads(response.text)  # Parse the response content as JSON\n",
    "        # Extract the source_url\n",
    "\n",
    "source_url = data[\"data\"][\"table_data\"][\"source_url\"]\n",
    "import io\n",
    "import pandas as pd\n",
    "\n",
    "response = requests.get(source_url + \"export?format=csv\")\n",
    "\n",
    "# Read the CSV data using pandas\n",
    "df = pd.read_csv(io.StringIO(response.text))\n",
    "# Save the dataframe as a CSV file\n",
    "output_csv = \"spreadsheet1.csv\"\n",
    "df.to_csv(output_csv, index=False)\n",
    "\n",
    "print(\"Spreadsheet saved as CSV:\", output_csv)"
   ]
  },
  {
   "cell_type": "code",
   "execution_count": 47,
   "id": "6c85a155",
   "metadata": {},
   "outputs": [
    {
     "data": {
      "text/plain": [
       "{'success': True,\n",
       " 'data': {'output': '<table id=\"create_tables\" class=\"ui celled display table gswpts_tables\" style=\"width:100%\"><thead><tr><th>Datum und Uhrzeit</th><th>Ort</th><th>Aktion</th></tr></thead><tbody><tr class=\"gswpts_rows row_1\" data-index=\"1\"><td data-index=\"[1,1]\" data-content=\"Datum und Uhrzeit: &nbsp;\" class=\"cell_index_1-1\"><div class=\"cell_div\">14.07.2023 um 14 Uhr</div></td><td data-index=\"[2,1]\" data-content=\"Ort: &nbsp;\" class=\"cell_index_2-1\"><div class=\"cell_div\">1,5°C Schriftzug in der Mönkebergstraße</div></td><td data-index=\"[3,1]\" data-content=\"Aktion: &nbsp;\" class=\"cell_index_3-1\"><div class=\"cell_div\">Fridays for Future Demo zur Ahrtal-Flut (2 Jahre)</div></td></tr><tr class=\"gswpts_rows row_2\" data-index=\"2\"><td data-index=\"[1,2]\" data-content=\"Datum und Uhrzeit: &nbsp;\" class=\"cell_index_1-2\"><div class=\"cell_div\">Am 15.09.2023</div></td><td data-index=\"[2,2]\" data-content=\"Ort: &nbsp;\" class=\"cell_index_2-2\"><div class=\"cell_div\">Ort folgt</div></td><td data-index=\"[3,2]\" data-content=\"Aktion: &nbsp;\" class=\"cell_index_3-2\"><div class=\"cell_div\">Globaler Klimastreik</div></td></tr></tbody></table>',\n",
       "  'type': 'success',\n",
       "  'tableColumns': ['Datum und Uhrzeit', 'Ort', 'Aktion'],\n",
       "  'table_data': {'table_id': 2,\n",
       "   'source_url': 'https://docs.google.com/spreadsheets/d/1_yTtKWYLAh0KbkesGKZsMZZnutgB7Cerlj1XfS4eHD0/',\n",
       "   'source_type': 'spreadsheet',\n",
       "   'table_name': 'Demodaten',\n",
       "   'table_settings': {'table_title': '',\n",
       "    'default_rows_per_page': '10',\n",
       "    'show_info_block': False,\n",
       "    'show_x_entries': False,\n",
       "    'swap_filter_inputs': False,\n",
       "    'swap_bottom_options': False,\n",
       "    'allow_sorting': False,\n",
       "    'search_bar': False}}}}"
      ]
     },
     "execution_count": 47,
     "metadata": {},
     "output_type": "execute_result"
    }
   ],
   "source": [
    "data"
   ]
  },
  {
   "cell_type": "code",
   "execution_count": 2,
   "id": "f1135096",
   "metadata": {},
   "outputs": [],
   "source": []
  },
  {
   "cell_type": "code",
   "execution_count": null,
   "id": "ddb8ee6f",
   "metadata": {},
   "outputs": [],
   "source": []
  },
  {
   "cell_type": "code",
   "execution_count": null,
   "id": "7feee621",
   "metadata": {},
   "outputs": [],
   "source": []
  },
  {
   "cell_type": "code",
   "execution_count": 4,
   "id": "597b0e93",
   "metadata": {},
   "outputs": [
    {
     "name": "stdout",
     "output_type": "stream",
     "text": [
      "Spreadsheet saved as CSV: spreadsheet1.csv\n"
     ]
    },
    {
     "data": {
      "text/html": [
       "<div>\n",
       "<style scoped>\n",
       "    .dataframe tbody tr th:only-of-type {\n",
       "        vertical-align: middle;\n",
       "    }\n",
       "\n",
       "    .dataframe tbody tr th {\n",
       "        vertical-align: top;\n",
       "    }\n",
       "\n",
       "    .dataframe thead th {\n",
       "        text-align: right;\n",
       "    }\n",
       "</style>\n",
       "<table border=\"1\" class=\"dataframe\">\n",
       "  <thead>\n",
       "    <tr style=\"text-align: right;\">\n",
       "      <th></th>\n",
       "      <th>Datum und Uhrzeit</th>\n",
       "      <th>Ort</th>\n",
       "      <th>Aktion</th>\n",
       "    </tr>\n",
       "  </thead>\n",
       "  <tbody>\n",
       "    <tr>\n",
       "      <th>0</th>\n",
       "      <td>14.07.2023 um 14 Uhr</td>\n",
       "      <td>1,5Â°C Schriftzug in der MÃ¶nkebergstraÃe</td>\n",
       "      <td>Fridays for Future Demo zur Ahrtal-Flut (2 Jahre)</td>\n",
       "    </tr>\n",
       "    <tr>\n",
       "      <th>1</th>\n",
       "      <td>Am 15.09.2023</td>\n",
       "      <td>Ort folgt</td>\n",
       "      <td>Globaler Klimastreik</td>\n",
       "    </tr>\n",
       "  </tbody>\n",
       "</table>\n",
       "</div>"
      ],
      "text/plain": [
       "      Datum und Uhrzeit                                         Ort  \\\n",
       "0  14.07.2023 um 14 Uhr  1,5Â°C Schriftzug in der MÃ¶nkebergstraÃe   \n",
       "1         Am 15.09.2023                                   Ort folgt   \n",
       "\n",
       "                                              Aktion  \n",
       "0  Fridays for Future Demo zur Ahrtal-Flut (2 Jahre)  \n",
       "1                               Globaler Klimastreik  "
      ]
     },
     "execution_count": 4,
     "metadata": {},
     "output_type": "execute_result"
    }
   ],
   "source": [
    "\n",
    "df"
   ]
  },
  {
   "cell_type": "code",
   "execution_count": 5,
   "id": "f855e1fb",
   "metadata": {},
   "outputs": [],
   "source": [
    "def format_date(date_str):\n",
    "    date_parts = date_str.split('.')\n",
    "    formatted_date = f\"{date_parts[1]}/{date_parts[0]}/{date_parts[2]}\"\n",
    "    return formatted_date\n",
    "df=pd.read_csv('spreadsheet1.csv',encoding='UTF-8')\n",
    "\n",
    "# Apply the format_date() function to the first column\n",
    "df['Datum und Uhrzeit'] = df['Datum und Uhrzeit'].apply(format_date)"
   ]
  },
  {
   "cell_type": "code",
   "execution_count": 6,
   "id": "40f4aa75",
   "metadata": {},
   "outputs": [
    {
     "data": {
      "text/html": [
       "<div>\n",
       "<style scoped>\n",
       "    .dataframe tbody tr th:only-of-type {\n",
       "        vertical-align: middle;\n",
       "    }\n",
       "\n",
       "    .dataframe tbody tr th {\n",
       "        vertical-align: top;\n",
       "    }\n",
       "\n",
       "    .dataframe thead th {\n",
       "        text-align: right;\n",
       "    }\n",
       "</style>\n",
       "<table border=\"1\" class=\"dataframe\">\n",
       "  <thead>\n",
       "    <tr style=\"text-align: right;\">\n",
       "      <th></th>\n",
       "      <th>Datum und Uhrzeit</th>\n",
       "      <th>Ort</th>\n",
       "      <th>Aktion</th>\n",
       "    </tr>\n",
       "  </thead>\n",
       "  <tbody>\n",
       "    <tr>\n",
       "      <th>0</th>\n",
       "      <td>07/14/2023 um 14 Uhr</td>\n",
       "      <td>1,5Â°C Schriftzug in der MÃ¶nkebergstraÃe</td>\n",
       "      <td>Fridays for Future Demo zur Ahrtal-Flut (2 Jahre)</td>\n",
       "    </tr>\n",
       "    <tr>\n",
       "      <th>1</th>\n",
       "      <td>09/Am 15/2023</td>\n",
       "      <td>Ort folgt</td>\n",
       "      <td>Globaler Klimastreik</td>\n",
       "    </tr>\n",
       "  </tbody>\n",
       "</table>\n",
       "</div>"
      ],
      "text/plain": [
       "      Datum und Uhrzeit                                         Ort  \\\n",
       "0  07/14/2023 um 14 Uhr  1,5Â°C Schriftzug in der MÃ¶nkebergstraÃe   \n",
       "1         09/Am 15/2023                                   Ort folgt   \n",
       "\n",
       "                                              Aktion  \n",
       "0  Fridays for Future Demo zur Ahrtal-Flut (2 Jahre)  \n",
       "1                               Globaler Klimastreik  "
      ]
     },
     "execution_count": 6,
     "metadata": {},
     "output_type": "execute_result"
    }
   ],
   "source": [
    "df.head()"
   ]
  },
  {
   "cell_type": "code",
   "execution_count": null,
   "id": "f9c87ba6",
   "metadata": {},
   "outputs": [],
   "source": []
  },
  {
   "cell_type": "code",
   "execution_count": null,
   "id": "93fe4240",
   "metadata": {},
   "outputs": [],
   "source": []
  }
 ],
 "metadata": {
  "kernelspec": {
   "display_name": "Python 3 (ipykernel)",
   "language": "python",
   "name": "python3"
  },
  "language_info": {
   "codemirror_mode": {
    "name": "ipython",
    "version": 3
   },
   "file_extension": ".py",
   "mimetype": "text/x-python",
   "name": "python",
   "nbconvert_exporter": "python",
   "pygments_lexer": "ipython3",
   "version": "3.10.9"
  }
 },
 "nbformat": 4,
 "nbformat_minor": 5
}
