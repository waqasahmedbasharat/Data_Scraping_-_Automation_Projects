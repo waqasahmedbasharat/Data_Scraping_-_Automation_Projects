{
  "cells": [
    {
      "cell_type": "code",
      "source": [
        "!pip install beautifulsoup4\n",
        "!pip install youtube-dl\n",
        "\n",
        "import os\n",
        "from bs4 import BeautifulSoup\n",
        "import requests\n",
        "\n",
        "# URL of the webpage containing the video links\n",
        "url = \"https://www.nasa.gov/content/ultra-high-definition-video-gallery\"\n",
        "\n",
        "# Make a request to the URL\n",
        "response = requests.get(url)\n",
        "soup = BeautifulSoup(response.text, \"html.parser\")\n",
        "\n",
        "# Find all video links on the page\n",
        "video_links = [a[\"href\"] for a in soup.find_all(\"a\", href=True) if \"/videos/video/\" in a[\"href\"]]\n",
        "\n",
        "# Create a directory to save the videos\n",
        "save_dir = \"nasa_videos\"\n",
        "if not os.path.exists(save_dir):\n",
        "    os.makedirs(save_dir)\n",
        "\n",
        "# Loop through the video links and download each video\n",
        "for video_link in video_links:\n",
        "    video_url = \"https://www.nasa.gov\" + video_link\n",
        "    os.system(f\"youtube-dl -o {save_dir}/%(title)s.%(ext)s {video_url}\")\n"
      ],
      "metadata": {
        "colab": {
          "base_uri": "https://localhost:8080/"
        },
        "id": "j2ewo-yBTXIr",
        "outputId": "6b3ef206-a55a-4b88-8b9c-b20ead21ff06"
      },
      "execution_count": null,
      "outputs": [
        {
          "output_type": "stream",
          "name": "stdout",
          "text": [
            "Requirement already satisfied: beautifulsoup4 in /usr/local/lib/python3.10/dist-packages (4.11.2)\n",
            "Requirement already satisfied: soupsieve>1.2 in /usr/local/lib/python3.10/dist-packages (from beautifulsoup4) (2.4.1)\n",
            "Requirement already satisfied: youtube-dl in /usr/local/lib/python3.10/dist-packages (2021.12.17)\n"
          ]
        }
      ]
    },
    {
      "cell_type": "code",
      "source": [
        "/content/nasa_videos"
      ],
      "metadata": {
        "id": "tKNecH_BsClf"
      },
      "execution_count": null,
      "outputs": []
    }
  ],
  "metadata": {
    "colab": {
      "provenance": []
    },
    "kernelspec": {
      "display_name": "Python 3",
      "name": "python3"
    },
    "language_info": {
      "name": "python"
    }
  },
  "nbformat": 4,
  "nbformat_minor": 0
}